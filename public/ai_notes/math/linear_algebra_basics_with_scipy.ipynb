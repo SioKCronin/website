{
 "cells": [
  {
   "cell_type": "markdown",
   "metadata": {},
   "source": [
    "# Basics with Scipy"
   ]
  },
  {
   "cell_type": "code",
   "execution_count": 16,
   "metadata": {
    "collapsed": true
   },
   "outputs": [],
   "source": [
    "import scipy.linalg as la\n",
    "import numpy as np"
   ]
  },
  {
   "cell_type": "markdown",
   "metadata": {},
   "source": [
    "## Motivating example"
   ]
  },
  {
   "cell_type": "markdown",
   "metadata": {},
   "source": [
    "We are entering three pies into the bakeoff, and want to make sure we win. We've tried a lot of different ingredients, but ultimatley have found that taste comes down to **butter**, **salt**, **sugar**, and **grandma's secret spice blend**. "
   ]
  },
  {
   "cell_type": "code",
   "execution_count": 7,
   "metadata": {},
   "outputs": [],
   "source": [
    "w = 1 #tbl_of_butter\n",
    "x = 1 #dash_of_salt\n",
    "y = 1 #spoonful_of_sugar\n",
    "z = 1 #undisclosed_measurement_of_spice\n",
    "\n",
    "pie1 = 3*w + 5*x + 30*y + 10*z\n",
    "pie2 = 2*w + 3*x + 40*y + 15*z\n",
    "pie3 = 4*w + 2*x + 10*y + 30*z\n",
    "pie4 = 10*w + 2*x + 10*y + 30*z"
   ]
  },
  {
   "cell_type": "code",
   "execution_count": 18,
   "metadata": {},
   "outputs": [],
   "source": [
    "A = np.array([[3,5,30,10],[2,3,40,15],[4,2,10,30], [10,2,10,30]])"
   ]
  },
  {
   "cell_type": "code",
   "execution_count": 19,
   "metadata": {},
   "outputs": [
    {
     "data": {
      "text/plain": [
       "array([[ 3,  5, 30, 10],\n",
       "       [ 2,  3, 40, 15],\n",
       "       [ 4,  2, 10, 30],\n",
       "       [10,  2, 10, 30]])"
      ]
     },
     "execution_count": 19,
     "metadata": {},
     "output_type": "execute_result"
    }
   ],
   "source": [
    "A"
   ]
  },
  {
   "cell_type": "code",
   "execution_count": 21,
   "metadata": {},
   "outputs": [],
   "source": [
    "inv = la.inv(A)"
   ]
  },
  {
   "cell_type": "code",
   "execution_count": 22,
   "metadata": {},
   "outputs": [
    {
     "data": {
      "text/plain": [
       "array([[ 4.20539024e-19,  3.48136945e-18, -1.66666667e-01,\n",
       "         1.66666667e-01],\n",
       "       [ 3.55932203e-01, -2.71186441e-01,  1.15819209e-01,\n",
       "        -9.88700565e-02],\n",
       "       [-2.03389831e-02,  4.40677966e-02, -2.09039548e-02,\n",
       "         5.64971751e-03],\n",
       "       [-1.69491525e-02,  3.38983051e-03,  5.48022599e-02,\n",
       "        -1.75141243e-02]])"
      ]
     },
     "execution_count": 22,
     "metadata": {},
     "output_type": "execute_result"
    }
   ],
   "source": []
  },
  {
   "cell_type": "markdown",
   "metadata": {},
   "source": [
    "## TEST"
   ]
  },
  {
   "cell_type": "code",
   "execution_count": 23,
   "metadata": {
    "collapsed": true
   },
   "outputs": [],
   "source": [
    "A = np.array([[2, 3, -1], [1, -1, 0], [0, 5, 2], [3, 2, 1]])"
   ]
  },
  {
   "cell_type": "code",
   "execution_count": 24,
   "metadata": {},
   "outputs": [
    {
     "data": {
      "text/plain": [
       "array([[ 2,  3, -1],\n",
       "       [ 1, -1,  0],\n",
       "       [ 0,  5,  2],\n",
       "       [ 3,  2,  1]])"
      ]
     },
     "execution_count": 24,
     "metadata": {},
     "output_type": "execute_result"
    }
   ],
   "source": [
    "A"
   ]
  },
  {
   "cell_type": "code",
   "execution_count": 25,
   "metadata": {
    "collapsed": true
   },
   "outputs": [],
   "source": [
    "test1 = np.array([2, 3, -7, 3])\n",
    "test2 = np.array([0, 0, 0, 0])\n",
    "test3 = np.array([1, 1, 1, 1])"
   ]
  },
  {
   "cell_type": "code",
   "execution_count": 28,
   "metadata": {},
   "outputs": [],
   "source": [
    "x1 = la.lstsq(A, test1)"
   ]
  },
  {
   "cell_type": "code",
   "execution_count": 33,
   "metadata": {
    "collapsed": true
   },
   "outputs": [],
   "source": [
    "orth = la.orth(A)"
   ]
  },
  {
   "cell_type": "code",
   "execution_count": 35,
   "metadata": {},
   "outputs": [],
   "source": [
    "r = np.ptp(A,axis=1)"
   ]
  },
  {
   "cell_type": "code",
   "execution_count": 36,
   "metadata": {},
   "outputs": [
    {
     "data": {
      "text/plain": [
       "array([4, 2, 5, 2])"
      ]
     },
     "execution_count": 36,
     "metadata": {},
     "output_type": "execute_result"
    }
   ],
   "source": [
    "r"
   ]
  },
  {
   "cell_type": "code",
   "execution_count": null,
   "metadata": {
    "collapsed": true
   },
   "outputs": [],
   "source": []
  }
 ],
 "metadata": {
  "kernelspec": {
   "display_name": "Python 3",
   "language": "python",
   "name": "python3"
  },
  "language_info": {
   "codemirror_mode": {
    "name": "ipython",
    "version": 3
   },
   "file_extension": ".py",
   "mimetype": "text/x-python",
   "name": "python",
   "nbconvert_exporter": "python",
   "pygments_lexer": "ipython3",
   "version": "3.5.2"
  }
 },
 "nbformat": 4,
 "nbformat_minor": 2
}
